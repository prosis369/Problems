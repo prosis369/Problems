{
 "cells": [
  {
   "cell_type": "code",
   "execution_count": 4,
   "metadata": {},
   "outputs": [
    {
     "name": "stdout",
     "output_type": "stream",
     "text": [
      "1\n",
      "1 10\n",
      "2\n",
      "3\n",
      "5\n",
      "7\n"
     ]
    }
   ],
   "source": [
    "cases = input()\n",
    "for s in range(cases):    \n",
    "    a,b = raw_input().split()\n",
    "    a = int(a)\n",
    "    b = int(b)\n",
    "    for i in range(a,b+1):\n",
    "        sq = int(i**0.5)\n",
    "        #print(sq)\n",
    "        counter = 0\n",
    "        for j in range (2,sq+1):\n",
    "            #print(i)\n",
    "            if((i%j)== 0):\n",
    "                counter = counter + 1\n",
    "            if(counter>0):\n",
    "                   break  # breaks are used only for loops and not for conditions\n",
    "        if(counter == 0):\n",
    "            if(i!= 1):\n",
    "                print(i)\n",
    "        \n",
    "    \n",
    "    \n",
    "\n",
    "        \n",
    "        \n",
    "\n",
    "    "
   ]
  },
  {
   "cell_type": "code",
   "execution_count": null,
   "metadata": {
    "collapsed": true
   },
   "outputs": [],
   "source": []
  },
  {
   "cell_type": "code",
   "execution_count": null,
   "metadata": {
    "collapsed": true
   },
   "outputs": [],
   "source": []
  }
 ],
 "metadata": {
  "kernelspec": {
   "display_name": "Python 2",
   "language": "python",
   "name": "python2"
  },
  "language_info": {
   "codemirror_mode": {
    "name": "ipython",
    "version": 2
   },
   "file_extension": ".py",
   "mimetype": "text/x-python",
   "name": "python",
   "nbconvert_exporter": "python",
   "pygments_lexer": "ipython2",
   "version": "2.7.13"
  }
 },
 "nbformat": 4,
 "nbformat_minor": 2
}
