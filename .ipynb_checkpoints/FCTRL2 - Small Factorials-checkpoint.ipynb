{
 "cells": [
  {
   "cell_type": "code",
   "execution_count": 2,
   "metadata": {},
   "outputs": [
    {
     "name": "stdout",
     "output_type": "stream",
     "text": [
      "4\n",
      "1\n",
      "1\n",
      "2\n",
      "2\n",
      "5\n",
      "120\n",
      "3\n",
      "6\n"
     ]
    }
   ],
   "source": [
    "#http://www.spoj.com/problems/FCTRL2/\n",
    "\n",
    "def factorial(n):\n",
    "    if (n == 1):\n",
    "        return (1)\n",
    "    else:\n",
    "        return(n*factorial(n-1))\n",
    "\n",
    "cases = input()\n",
    "for i in range(cases):\n",
    "    n = input()\n",
    "    print(factorial(n))\n",
    "    \n",
    "            \n",
    "        "
   ]
  },
  {
   "cell_type": "code",
   "execution_count": null,
   "metadata": {
    "collapsed": true
   },
   "outputs": [],
   "source": []
  }
 ],
 "metadata": {
  "kernelspec": {
   "display_name": "Python 2",
   "language": "python",
   "name": "python2"
  },
  "language_info": {
   "codemirror_mode": {
    "name": "ipython",
    "version": 2
   },
   "file_extension": ".py",
   "mimetype": "text/x-python",
   "name": "python",
   "nbconvert_exporter": "python",
   "pygments_lexer": "ipython2",
   "version": "2.7.13"
  }
 },
 "nbformat": 4,
 "nbformat_minor": 2
}
