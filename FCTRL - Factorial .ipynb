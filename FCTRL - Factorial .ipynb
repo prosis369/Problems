{
 "cells": [
  {
   "cell_type": "code",
   "execution_count": null,
   "metadata": {},
   "outputs": [
    {
     "name": "stdout",
     "output_type": "stream",
     "text": [
      "4\n",
      "1\n",
      "0\n",
      "60\n",
      "14\n"
     ]
    }
   ],
   "source": [
    "cases = input()\n",
    "for i in range(cases):\n",
    "    n = input()\n",
    "    count = 1\n",
    "    sum = 0  # use brackets properly everywhere\n",
    "    while (n/(5**count)>= 1):# you are using an if condition omg !! what should u use?\n",
    "        m = int(n/(5**count))  \n",
    "        sum = sum + m\n",
    "        count = count + 1\n",
    "    print(sum)\n",
    "\n",
    "\n",
    "    \n",
    "\n",
    "    \n",
    "\n",
    "    \n",
    "\n"
   ]
  },
  {
   "cell_type": "code",
   "execution_count": null,
   "metadata": {
    "collapsed": true
   },
   "outputs": [],
   "source": []
  }
 ],
 "metadata": {
  "kernelspec": {
   "display_name": "Python 2",
   "language": "python",
   "name": "python2"
  },
  "language_info": {
   "codemirror_mode": {
    "name": "ipython",
    "version": 2
   },
   "file_extension": ".py",
   "mimetype": "text/x-python",
   "name": "python",
   "nbconvert_exporter": "python",
   "pygments_lexer": "ipython2",
   "version": "2.7.13"
  }
 },
 "nbformat": 4,
 "nbformat_minor": 2
}
